{
  "nbformat": 4,
  "nbformat_minor": 0,
  "metadata": {
    "colab": {
      "provenance": [],
      "include_colab_link": true
    },
    "kernelspec": {
      "name": "ir",
      "display_name": "R"
    },
    "language_info": {
      "name": "R"
    }
  },
  "cells": [
    {
      "cell_type": "markdown",
      "metadata": {
        "id": "view-in-github",
        "colab_type": "text"
      },
      "source": [
        "<a href=\"https://colab.research.google.com/github/habibahsya/cccc/blob/main/Template_Tugas_Praktikum_Metode_Peramalan.ipynb\" target=\"_parent\"><img src=\"https://colab.research.google.com/assets/colab-badge.svg\" alt=\"Open In Colab\"/></a>"
      ]
    },
    {
      "cell_type": "markdown",
      "source": [
        "# **Tugas ... Praktikum Metode Peramalan**\n",
        "- **Nama Lengkap:** [Input Nama Lengkap]\n",
        "- **NIF:** [Input NIF]\n",
        "- **Program Studi:** [Input Program Studi]"
      ],
      "metadata": {
        "id": "pT7Z56wiKPdM"
      }
    },
    {
      "cell_type": "markdown",
      "source": [
        "## **Import Semua Packages/Library yang Digunakan**"
      ],
      "metadata": {
        "id": "ucc5fhl3K80t"
      }
    },
    {
      "cell_type": "code",
      "execution_count": null,
      "metadata": {
        "id": "c8FTDslgi56H"
      },
      "outputs": [],
      "source": [
        "library(ggplot2)\n",
        "# dan seterusnya"
      ]
    },
    {
      "cell_type": "markdown",
      "source": [
        "## **Jawaban Nomor ...**"
      ],
      "metadata": {
        "id": "Fzk-HGubLbn4"
      }
    },
    {
      "cell_type": "markdown",
      "source": [
        "Berikan penjelasan Anda di sini...\n",
        "\n",
        "1.   Berikan penjelasan Anda di sini...\n",
        "2.   Berikan penjelasan Anda di sini...\n"
      ],
      "metadata": {
        "id": "Z5ahBUm5MLW9"
      }
    },
    {
      "cell_type": "markdown",
      "source": [
        "Template jawaban untuk uji stasioner:\n",
        "*   **Hipotesis**\\\n",
        "$H_0:$ Data tidak stasioner\\\n",
        "$H_1:$ Data stasioner\n",
        "\n",
        "*   **Tingkat Signifikansi**\\\n",
        "$\\alpha = 5\\%$\n",
        "\n",
        "*   **Statistik Uji**\\\n",
        "P-Value = $...$\n",
        "\n",
        "*   **Daerah Kritik**\\\n",
        "$H_0$ ditolak jika P-Value $< \\alpha$\n",
        "\n",
        "*   **Kesimpulan**\\\n",
        "Karena P-Value = $... > 5\\%$, maka $H_0$ tidak ditolak. Sehingga dapat disimpulkan bahwa ...."
      ],
      "metadata": {
        "id": "OOJNphDCNE9S"
      }
    },
    {
      "cell_type": "code",
      "source": [
        "# Tuliskan syntax Anda di sini..."
      ],
      "metadata": {
        "id": "3i_u8TCGMK4E"
      },
      "execution_count": null,
      "outputs": []
    },
    {
      "cell_type": "code",
      "source": [
        "# Anda juga diperbolehkan menambah code cell baru"
      ],
      "metadata": {
        "id": "ZjqUeZ-JQGdb"
      },
      "execution_count": null,
      "outputs": []
    },
    {
      "cell_type": "code",
      "source": [
        "# Posisi code cell dan text cell dibebaskan, yang penting rapi"
      ],
      "metadata": {
        "id": "oMOV8d56jArn"
      },
      "execution_count": null,
      "outputs": []
    },
    {
      "cell_type": "markdown",
      "source": [
        "**Interpretasi:**\\\n",
        "Berikan interpretasi Anda di sini..."
      ],
      "metadata": {
        "id": "QeZ4V1WSQOFT"
      }
    }
  ]
}