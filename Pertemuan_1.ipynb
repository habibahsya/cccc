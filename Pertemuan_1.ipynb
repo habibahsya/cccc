{
  "cells": [
    {
      "cell_type": "markdown",
      "metadata": {
        "id": "view-in-github",
        "colab_type": "text"
      },
      "source": [
        "<a href=\"https://colab.research.google.com/github/habibahsya/cccc/blob/main/Pertemuan_1.ipynb\" target=\"_parent\"><img src=\"https://colab.research.google.com/assets/colab-badge.svg\" alt=\"Open In Colab\"/></a>"
      ]
    },
    {
      "cell_type": "markdown",
      "metadata": {
        "id": "V3WwrrZJu5iv"
      },
      "source": [
        "# Pertemuan 1 Pengantar Data Mining\n",
        "\n",
        "## Pengantar Dasar Python"
      ]
    },
    {
      "cell_type": "markdown",
      "metadata": {
        "id": "aggMXHc8u5iw"
      },
      "source": [
        "# Deskripsi Singkat\n",
        "Python merupakan Bahasa pemrograman populer yang dibuat oleh Guido van Rossum. Python dirilis pada tahun 1991. Python adalah bahasa pemrograman yang sangat sederhana sehingga mudah untuk digunakan. Python dapat digunakan untuk berbagai kepentingan antara lain dapat digunakan di server untuk membuat aplikasi web, digunakan bersama perangkat lunak untuk membuat alur kerja, dapat terhubung ke sistem basis data dan dapat digunakan untuk membaca dan memodifikasi file. Python mampu menangani data besar dan melakukan matematika yang rumit. Python dapat juga digunakan untuk pembuatan prototipe cepat, atau untuk pengembangan perangkat lunak yang siap produksi.  Python memiliki banyak keunggulan antara lain.\n",
        "* Python mampu bekerja pada platform yang berbeda (Cross platform. Python tersedia dan dapat berjalan di berbagai sistem operasi seperti Mac, Windows, Linux, Unix dll. Hal ini membuatnya menjadi cross platform dan bahasa portabel.\n",
        "* Python  berjalan  pada  sistem  interpreter,  artinya  kode  dapat  dieksekusi  segera  setelah ditulis sehingga prototyping bisa sangat cepat.\n",
        "* Python  dapat  diperlakukan  dengan  cara  prosedural,  cara  berorientasi  objek  atau  cara fungsional.\n",
        "* Python mudah untuk dipelajari karena menggunakan bahasa pemrograman tingkat tinggi yang ekspresif, yang artinya mudah untuk memahami bahasa dan karenanya mudah dipelajari. Python memiliki sintaks sederhana yang mirip dengan bahasa Inggris. Python juga memiliki sintaks yang memungkinkan pengembang untuk menulis program dengan garis lebih sedikit daripada beberapa bahasa pemrograman lainnya.\n",
        "* Python merupakan perangkat lunak atau bahasa pemrograman open source. Ini berarti Python dapat diunduh secara gratis dan digunakannya di aplikasi. Python merupakan FLOSS (Free / Libre Open Source Software), yang berarti siapa saja dapat dengan bebas mendistribusikan salinan perangkat lunak ini, membaca kode sumbernya dan memodifikasinya.\n",
        "* Python dilengkapi dengan pustaka standar besar yang memiliki beberapa kode praktis dan fungsi yang dapat kita gunakan saat menulis kode dalam Python.\n",
        "* Mendukung penanganan pengecualian. Pengecualian adalah peristiwa yang dapat terjadi selama pengecualian program dan dapat mengganggu aliran normal program. Python mendukung penanganan pengecualian yang berarti kita dapat menulis lebih sedikit kode rawan kesalahan dan dapat menguji berbagai skenario yang dapat menyebabkan pengecualian di kemudian hari.\n",
        "* Python  mendukung  manajemen  memori  otomatis  yang  berarti  memori  dihapus  dan dibebaskan secara otomatis. Anda tidak perlu repot membersihkan memori."
      ]
    },
    {
      "cell_type": "markdown",
      "metadata": {
        "id": "4sQ9LDbqu5iy"
      },
      "source": [
        "# Jupyter Notebook\n",
        "Jupyter Notebook merupakan tool yang popular untuk mengolah data dalam Bahasa pemrograman Python. Jupyter Notebook memungkinkan untuk mengintegrasikan antara kode dengan output di dalam satu dokumen secara interaktif. Jupyter Notebook sudah otomatis terinstall ketika kita telah menginstall python dengan anaconda.\n",
        "\n",
        "Halaman Jupyter Notebook akan muncul di lokasi folder tempat menjalankan sintaks Jupyter Notebook. Untuk membuat file pemrograman baru, dapat dilakukan dengan mengklik tab new sebelah kanan atas. Kemudian pilih Python 3."
      ]
    },
    {
      "cell_type": "markdown",
      "source": [
        "# Tipe Data"
      ],
      "metadata": {
        "id": "dM_Sts4j2c5_"
      }
    },
    {
      "cell_type": "markdown",
      "metadata": {
        "id": "J7RPICJ7u5iy"
      },
      "source": [
        "* Tipe Text     : str (string)\n",
        "* Tipe Numerik  : int (integer), float, complex\n",
        "* Tipe Barisan  : list, tuple, range\n",
        "* Tipe Mapping  : dict (dictionary)\n",
        "* Tipe Himpunan : set, frozenset\n",
        "* Tipe Boolean  : bool\n",
        "* Tipe Binary   : bytes, bytearray, memoryview\n",
        "\n",
        "Selain tipe data diatas, bahasa pemrograman Python juga menyediakan operator aritmetika seperti :\n",
        "\n",
        "a. + digunakan untuk penjumlahan\n",
        "\n",
        "b. - digunakan untuk pengurangan\n",
        "\n",
        "c. * digunakan untuk perkalian\n",
        "\n",
        "d. / digunakan untuk pembagian\n",
        "\n",
        "e. % digunakan untuk Modulus\n",
        "\n",
        "f. ** digunakan untuk pangkat\n",
        "\n",
        "g. // digunakan untuk Floor division"
      ]
    },
    {
      "cell_type": "markdown",
      "source": [],
      "metadata": {
        "id": "igRhyZXg7asf"
      }
    },
    {
      "cell_type": "code",
      "source": [],
      "metadata": {
        "id": "u5pd72vB7cG9"
      },
      "execution_count": null,
      "outputs": []
    },
    {
      "cell_type": "code",
      "execution_count": null,
      "metadata": {
        "colab": {
          "base_uri": "https://localhost:8080/"
        },
        "id": "060uVKegu5iz",
        "outputId": "48909351-c827-4ae9-f567-0c365bb54c37"
      },
      "outputs": [
        {
          "output_type": "stream",
          "name": "stdout",
          "text": [
            "7\n",
            "Hasilnya adalah  7\n"
          ]
        }
      ],
      "source": [
        "# Contoh operasi Matematika sederhana tipe integer\n",
        "a = 5\n",
        "b = 2\n",
        "c = a + b\n",
        "# c\n",
        "print(c)\n",
        "print ('Hasilnya adalah ', c) #Fungsi untuk menampilkan hasil"
      ]
    },
    {
      "cell_type": "code",
      "execution_count": null,
      "metadata": {
        "colab": {
          "base_uri": "https://localhost:8080/"
        },
        "id": "1PDaqgH5u5iz",
        "outputId": "579ee440-cb25-45bb-d685-39560f3cd91c"
      },
      "outputs": [
        {
          "output_type": "execute_result",
          "data": {
            "text/plain": [
              "('Hasilnya adalah', 7)"
            ]
          },
          "metadata": {},
          "execution_count": 2
        }
      ],
      "source": [
        "a = 5\n",
        "b = 2\n",
        "c = a + b\n",
        "'Hasilnya adalah', c"
      ]
    },
    {
      "cell_type": "code",
      "execution_count": null,
      "metadata": {
        "id": "3vX-uR-eu5i0",
        "colab": {
          "base_uri": "https://localhost:8080/"
        },
        "outputId": "013608e2-dce9-48fb-822f-c277b02aaa4e"
      },
      "outputs": [
        {
          "output_type": "stream",
          "name": "stdout",
          "text": [
            "21.98\n"
          ]
        }
      ],
      "source": [
        "# Contoh operasi Matematika sederhana tipe float\n",
        "a = 3.14\n",
        "b = 7\n",
        "c = a * b\n",
        "print(c)"
      ]
    },
    {
      "cell_type": "code",
      "execution_count": null,
      "metadata": {
        "colab": {
          "base_uri": "https://localhost:8080/"
        },
        "id": "eRUbWdsru5i1",
        "outputId": "09541669-cd1b-4204-c57f-98e98cedf0a0"
      },
      "outputs": [
        {
          "output_type": "stream",
          "name": "stdout",
          "text": [
            "Pengenalan Program Python Mata Kuliah Data Mining Program Studi Statistika dan Aktuaria UGM\n"
          ]
        }
      ],
      "source": [
        "# Contoh penggunaan tipe data text\n",
        "string1 = \"Pengenalan Program Python\"\n",
        "string2 = \"Mata Kuliah Data Mining\"\n",
        "string3 = \"Program Studi Statistika dan Aktuaria UGM\"\n",
        "print (string1 + ' ' +string2 + ' ' + string3)"
      ]
    },
    {
      "cell_type": "code",
      "source": [
        "# Floor division\n",
        "\n",
        "m = 10\n",
        "n = 4\n",
        "p = m// n\n",
        "print(p)"
      ],
      "metadata": {
        "colab": {
          "base_uri": "https://localhost:8080/"
        },
        "id": "Jkc8Mi_OzyM9",
        "outputId": "3468489a-38ea-4247-efd8-0c5c8f4226b6"
      },
      "execution_count": null,
      "outputs": [
        {
          "output_type": "stream",
          "name": "stdout",
          "text": [
            "2\n"
          ]
        }
      ]
    },
    {
      "cell_type": "markdown",
      "source": [
        "# BOOLEAN\n"
      ],
      "metadata": {
        "id": "TNSyBCHI2kxH"
      }
    },
    {
      "cell_type": "markdown",
      "source": [
        "- Boolean adalah salah satu tipe data yang ada di dalam bahasa pemrograman Python.\n",
        "- Tipe data Boolean merepresentasikan salah satu dari dua nilai logika yaitu <b>True</b> atau <b>False</b>.<br>\n",
        "\n",
        "- Fungsi dari Boolean itu sendiri  secara umum adalah untuk mengetahui kebenaran dalam suatu ekspresi apakah bernilai <b>True</b> atau <b>False</b>.<br>\n",
        "\n",
        "### Boolean Operations\n",
        "\n",
        "Operator  Equality\n",
        "Operator Equality adalah operator yang berfungsi untuk memeriksa **kesamaan** atau **ketidaksamaan** nilai satu dengan yang lain.\n",
        "\n",
        "| Operator  | Arti              |Penggunaa dalam Python|\n",
        "|-----------|-------------------|----------------------|\n",
        "| ==        | **sama** dengan       |var_1 == var_2|\n",
        "| !=        | **tidak sama** dengan |var_1 != var_2|\n",
        "\n",
        "Operator Comparsion adalah operator yang berfungsi untuk **komparasi** nilai satu dengan yang lain.\n",
        "\n",
        "| Operator  | Arti                         |Penggunaan dalam Python|\n",
        "|-----------|------------------------------|-----------------------|\n",
        "| <         | **lebih kecil** dari             |var_1 < var_2      |\n",
        "| >         |**lebih besar** dari              |var_1 > var_2      |\n",
        "| <=        |**lebih kecil** atau **sama dengan**  |var_1 <= var_2 |\n",
        "| >=        | **lebih besar** atau **sama dengan** |var_1 >= var_2 |\n",
        "\n",
        "### Boolean Logic\n",
        "terdapat tiga operasi logic dasar boolean yaitu:\n",
        "* AND\n",
        "* OR\n",
        "* NOT\n",
        "\n",
        "    \n",
        "    \n",
        "    \n"
      ],
      "metadata": {
        "id": "bU9II-t50s1L"
      }
    },
    {
      "cell_type": "markdown",
      "source": [
        "---\n",
        "#### AND\n",
        "Secara sederhana, `and` memiliki karakteristik sebagai berikut:\n",
        "* Nilai `TRUE` hanya bisa diperoleh jika dua nilai bernilai `TRUE`\n",
        "* Secara fisik adalah irisan antara dua kondisi.\n",
        "\n",
        "Truth table:\n",
        "\n",
        "| A | B | A and B  | Arti|\n",
        "|-------------|-------------|------|-----\n",
        "| True        | True        | True |Jika A bernilai True **Dan** B bernilai True maka outputnya **True**\n",
        "| True        | False       | False|Jika A bernilai True **Dan** B bernilai False maka outputnya **False**\n",
        "| False       | True        | False|Jika A bernilai False **Dan** B bernilai True maka outputnya **False**\n",
        "| False       | False       | False|Jika A bernilai False **Dan** B bernilai False maka outputnya False"
      ],
      "metadata": {
        "id": "vUhHn7ey1dw4"
      }
    },
    {
      "cell_type": "markdown",
      "source": [
        "---\n",
        "#### OR\n",
        "Secara sederhana, `OR` memiliki karakteristik sebagai berikut:\n",
        "* Nilai `TRUE` dapat diperoleh jika salah satu kondisi bernilai `TRUE`\n",
        "* Secara fisik, `OR` adalah gabungan antara dua kondisi.\n",
        "* Gabungan merupakan **mencakupi semua nilai maupun itu irisan atau diluar dari irisan**\n",
        "\n",
        "Truth table:\n",
        "\n",
        "| A | B | A or B  | Arti|\n",
        "|-------------|-------------|------|-----\n",
        "| True        | True        | True |Jika nilai A True **Atau** nilai B True maka outputnya True\n",
        "| True        | False       | True |Jika nilai A True **Atau** nilai B False maka outputnya True\n",
        "| False       | True        | True |Jika nilai A False **Atau** nilai B True maka outputnya True\n",
        "| False       | False       | False|Jika nilai A False **Atau** nilai B False maka outputnya False"
      ],
      "metadata": {
        "id": "CGKqceFC1qUM"
      }
    },
    {
      "cell_type": "markdown",
      "source": [
        "---\n",
        "#### NOT\n",
        "Secara sederhana, `not` memiliki karakteristik sebagai berikut:\n",
        "* Merupakan negasi dari nilai sebelumnya.\n",
        "* Negasi adalah penyangkalan atau peniadaan dari suatu pernyataan.\n",
        "* Jika nilai sebelumnya adalah `TRUE`, maka akan menghasilkan `False` dan sebaliknya.\n",
        "\n",
        "Truth table\n",
        "\n",
        "| Condition | NOT   |\n",
        "|-----------|-------|\n",
        "| TRUE      | FALSE |\n",
        "| FALSE     | TRUE  |\n",
        "\n",
        "* Contoh:\n",
        "    * Ibu tidak membeli Lemon.\n",
        "    * Maka, jika Ibu membeli Lemon, kalimat tersebut akan salah.\n",
        "    \n"
      ],
      "metadata": {
        "id": "anSfEIMA1xpU"
      }
    },
    {
      "cell_type": "markdown",
      "source": [
        "---\n",
        "## **Case Study 1 : Membuat Sistem Rekomendasi Beasiswa Mahasiswa**\n",
        "----------------------------------------------------------------------\n",
        "Disebuah kampus menerapkan sistem rekomendasi untuk mahasiwa yang mendapatkan beasiswa dengan kriteria yang ditentukan untuk mahasiwa semester 3 sebagai berikut :\n",
        "1. Mahasiswa dengan Indeks prestasi atau IP minimal lebih dari atau sama dengan 3.5 ditiap semesternya\n",
        "2. Mahasiswa dengan jika mendapatkan prestasi sesuai dengan bidang studi, IP tidak memengaruhi\n",
        "3. Mahasiswa dengan mendapatkan prestasi dalam olahraga, harus memiliki IP minimal lebih dari atau sama dengan 3.5 minimal 1 semester.\n",
        "\n",
        "Berikut ketentuan variabel yang harus di gunakan:\n",
        "\n",
        "|Nama                    |Nama Variabel    |Tipe Data|\n",
        "|------------------------|-----------------|---------|\n",
        "|IP Semester 1           |ip_smt_1         |float    |\n",
        "|IP Semester 2           |ip_smt_2         |float    |\n",
        "|Prestasi Bidang Studi   |get_prestasi_bs  |boolean  |\n",
        "|Prestasi Olahraga       |get_prestasi_ol  |boolean  |\n",
        "\n",
        "Jika Output True maka ia Mendapatkan beasiswa, jika False tidak mendapatkan beasiwa.\n",
        "\n",
        "Buatlah operasi boolean logic berikut:"
      ],
      "metadata": {
        "id": "XxyX7bzo2Fxg"
      }
    },
    {
      "cell_type": "markdown",
      "source": [
        "### Problem 1A\n",
        "Kandidat pertama mendapatkan beasiswa dengan memiliki IP 3.5 ditiap semesternya (semester 1 & semester 2) maka buatlah boolean logic yang menggambarkan apakah ia berhak mendapatkan beasiswa\n"
      ],
      "metadata": {
        "id": "lDPwP6ZF2_Tw"
      }
    },
    {
      "cell_type": "code",
      "source": [
        "ip_smt_1 = 3.5\n",
        "ip_smt_2 = 3.5\n",
        "\n",
        "ip_smt_1 >= 3.5 and ip_smt_2 >= 3.5"
      ],
      "metadata": {
        "colab": {
          "base_uri": "https://localhost:8080/"
        },
        "id": "FF1CW0Ry3HUw",
        "outputId": "3ba557f9-e76f-49d6-f253-bbe5829c06e9"
      },
      "execution_count": null,
      "outputs": [
        {
          "output_type": "execute_result",
          "data": {
            "text/plain": [
              "True"
            ]
          },
          "metadata": {},
          "execution_count": 8
        }
      ]
    },
    {
      "cell_type": "markdown",
      "source": [
        "### Problem 1B\n",
        "Kandidat kedua mendapatkan beasiswa dengan nilai IP semester 1 yaitu 3.2, IP semester 2 yaitu 2.8,dan mendapatkan prestasi bidang studi.\n",
        "\n",
        "\n",
        "\n",
        "\n"
      ],
      "metadata": {
        "id": "exP-JdZj3Vuz"
      }
    },
    {
      "cell_type": "code",
      "source": [
        "ip_smt_1 = 3.2\n",
        "ip_smt_2 = 2.8\n",
        "get_prestasi_bs = True\n",
        "ip_smt_1 >= 3.5 or ip_smt_2 >=3.5 or get_prestasi_bs == True"
      ],
      "metadata": {
        "colab": {
          "base_uri": "https://localhost:8080/"
        },
        "id": "php2ftIY3icZ",
        "outputId": "f6661070-9f32-4f39-c7f1-f207d925a341"
      },
      "execution_count": null,
      "outputs": [
        {
          "output_type": "execute_result",
          "data": {
            "text/plain": [
              "True"
            ]
          },
          "metadata": {},
          "execution_count": 9
        }
      ]
    },
    {
      "cell_type": "markdown",
      "source": [
        "### Problem 1C\n",
        "Kandidat ketiga mendapatkan beasiswa dengan prestasi di bidang olahraga, dengan nilai IP semester 1 yaitu 3.0 dan nilai IP semester 2 yaitu 3.6\n",
        "\n",
        "\n",
        "\n"
      ],
      "metadata": {
        "id": "2cXtwJSV4EKB"
      }
    },
    {
      "cell_type": "code",
      "source": [
        "# Tulis jawaban dibawah ini\n",
        "..."
      ],
      "metadata": {
        "id": "VZfC3tJk4pcm"
      },
      "execution_count": null,
      "outputs": []
    },
    {
      "cell_type": "markdown",
      "source": [
        "<details>\n",
        "    <summary><b>Klik untuk melihat kunci jawaban</b></summary>\n",
        "\n",
        "```python\n",
        "ip_smt_1 = 3.0\n",
        "ip_smt_2 = 3.6\n",
        "get_prestasi_ol = True\n",
        "\n",
        "ip_smt_1 >= 3.5 or ip_smt_2 >=3.5 and get_prestasi_bs == True\n",
        "\n",
        "```\n",
        "\n",
        "</details>\n",
        "\n",
        "---"
      ],
      "metadata": {
        "id": "pEw4_TJC4soN"
      }
    },
    {
      "cell_type": "markdown",
      "source": [
        "### Problem 1D\n",
        "Kandidat keempat tidak mendapatkan beasiswa, dengan nilai IP semester 1 yaitu 3.0 dan nilai IP semester 2 yaitu 3.49 meskipun dengan prestasi di bidang olahraga\n",
        "\n",
        "\n",
        "\n"
      ],
      "metadata": {
        "id": "xKkfeVnD4NoM"
      }
    },
    {
      "cell_type": "code",
      "source": [
        "# Tulis jawaban dibawah ini\n",
        "..."
      ],
      "metadata": {
        "id": "rjVjLrLx42NY"
      },
      "execution_count": null,
      "outputs": []
    },
    {
      "cell_type": "markdown",
      "source": [
        "<details>\n",
        "    <summary><b>Klik untuk melihat kunci jawaban</b></summary>\n",
        "\n",
        "```python\n",
        "ip_smt_1 = 3.0\n",
        "ip_smt_2 = 3.49\n",
        "get_prestasi_ol = True\n",
        "\n",
        "ip_smt_1 >= 3.5 or ip_smt_2 >=3.5 and get_prestasi_ol == True\n",
        "\n",
        "```\n",
        "\n",
        "</details>\n",
        "\n",
        "---"
      ],
      "metadata": {
        "id": "Cur-cswV4xMJ"
      }
    },
    {
      "cell_type": "markdown",
      "metadata": {
        "id": "69ZU_m9Uu5i1"
      },
      "source": [
        "# Branching\n",
        "Bahasa pemrograman python juga dapat melakukan conditional branching, yaitu ketika eksekusi program harus memilih ke salah satu cabang berdasarkan syarat suatu nilai boolean yang bernilai true atau false.\n",
        "\n",
        "- <b>Branching</b> atau percabangan adalah salah satu bentuk kontrol pada suatu program.<br>\n",
        "-  Percabangan berguna untuk <b>mengatur</b> jalannya program sesuai dengan suatu kondisi yang terpenuhi.<br>\n",
        "- Percabangan juga mampu membuat sebuah program menentukan suatu tindakan sesuai dengan logika/kondisi yang diberikan<br>\n",
        "- Dalam pemrograman Python, terdapat tiga keywords untuk melakukan percabangan, yaitu <b>if</b>, <b>elif</b>, dan <b>else</b>.<br>\n",
        "    \n",
        "\n",
        "\n",
        "    \n",
        "    \n",
        "  "
      ]
    },
    {
      "cell_type": "markdown",
      "source": [
        "#### Syntax Branching\n",
        "Berikut merupakan syntax dari statement if, elif, dan else:\n",
        "<br>\n",
        "<br>\n",
        "![Untitled Diagram.drawio (7).svg](data:image/svg+xml;base64,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)"
      ],
      "metadata": {
        "id": "7m63zIblzbx8"
      }
    },
    {
      "cell_type": "markdown",
      "source": [
        "\n",
        "\n",
        "\n",
        "\n",
        "## **Case Study 2 : Pengelompokan Kelompok umur Penduduk**\n",
        "-----------------------------------------------------------------------------\n",
        "Sebuah Aplikasi Sensus memiliki fitur untuk mengkategorikan penduduk kelompok umur . berikut kategori kelompok umur\n",
        "\n",
        "| Nama Kelompok Umur   |Ambang batas umur|\n",
        "|----------------------|-----------------|\n",
        "|Balita                |0-5 tahun        |\n",
        "|Kanak-kanak           |6-11 tahun       |\n",
        "|Remaja                |12-25            |\n",
        "|Dewasa                |26-45            |\n",
        "|Lansia                |>46              |\n",
        "\n",
        "Buatlah program branching lebih dari 2 kondisi menggunakan variabel umur berdasarkan semua kelompok umur.\n",
        "\n"
      ],
      "metadata": {
        "id": "Ynh6XgYx6Gi2"
      }
    },
    {
      "cell_type": "code",
      "source": [
        "umur = int(input('umur : '))\n",
        "\n",
        "if  umur < 5:\n",
        "    print(\"balita\")\n",
        "elif umur <= 11:\n",
        "    print(\"kanak-kanak\")\n",
        "elif umur <= 25:\n",
        "    print(\"remaja\")\n",
        "elif umur <= 45:\n",
        "    print(\"dewasa\")\n",
        "else:\n",
        "    print(\"lansia\")"
      ],
      "metadata": {
        "colab": {
          "base_uri": "https://localhost:8080/"
        },
        "id": "hTcb5tmQzmRn",
        "outputId": "528ba846-2555-4dae-8dea-eea96f2e5edb"
      },
      "execution_count": null,
      "outputs": [
        {
          "output_type": "stream",
          "name": "stdout",
          "text": [
            "umur : 10\n",
            "kanak-kanak\n"
          ]
        }
      ]
    },
    {
      "cell_type": "markdown",
      "source": [
        "\n",
        "\n",
        "\n",
        "\n",
        "## **Case Study 3 : Menyiapkan Pengaturan Penyiraman Menggunakan Sensor Suhu dan Kelembapan**\n",
        "-----------------------------------------------------------------------------\n",
        "Sebuah Sensor yang dipasang pada sebuah perkebunan memiliki aturan untuk penyiraman berdasarkan suhu dan kelembapan, sensor dapat mendeteksi suhu dan kelembapan dengan penilaian sebagai berikut\n",
        "\n",
        "|Penilaian Suhu (temp_type) | Penilaian Kelembapan (moisture_type) |\n",
        "|--------------------------|----------------------|\n",
        "|Cold                    |Dry                   |\n",
        "|Normal                  |Moist                 |\n",
        "|Hot                     |Wet                   |\n",
        "\n",
        "\n",
        "Alat Penyiram air akan menyala secara otomatis dengan beberapa lama durasi penyiraman yang berbeda berdasarkan aturan kombinasi antara penilaian suhu dan penilaian kelembapan. Aturan-aturan yang telah ditentukan sebagai berikut:\n",
        "\n",
        "|Penilaian Suhu & Kelembapan          | Durasi Penyiraman |\n",
        "|------------------------|----------------------|\n",
        "|Cold - Dry              |15 menit              |\n",
        "|Cold - Moist            |15 menit              |\n",
        "|Cold - Wet              |5 menit               |\n",
        "|Normal - Dry            |15 menit              |\n",
        "|Normal - Moist          |10 menit              |\n",
        "|Normal - Wet            |5  menit              |\n",
        "|Hot - Dry               |15 menit              |\n",
        "|Hot - Moist             |10 menit              |\n",
        "|Hot - Wet               |5  menit              |\n",
        "|None                    |Perangkat Error       |\n",
        "\n",
        "\n"
      ],
      "metadata": {
        "id": "yNjt3vHeCEy3"
      }
    },
    {
      "cell_type": "markdown",
      "source": [
        "### Problem 3A\n",
        "Buatlah nested branch kondisi untuk Cold - Dry dengan aturan penyiraman yg telah ditentukan"
      ],
      "metadata": {
        "id": "h5dvEP2qChsN"
      }
    },
    {
      "cell_type": "code",
      "source": [
        "temp_type = \"Cold\"\n",
        "moisture_type = \"Dry\"\n",
        "\n",
        "if temp_type == \"Cold\":\n",
        "  if moisture_type == \"Dry\":\n",
        "    print(\"Watering on 15 minutes\")"
      ],
      "metadata": {
        "id": "NVueirf4Co00",
        "colab": {
          "base_uri": "https://localhost:8080/"
        },
        "outputId": "5950b545-31e7-48f0-ff05-88bb39d562b6"
      },
      "execution_count": null,
      "outputs": [
        {
          "output_type": "stream",
          "name": "stdout",
          "text": [
            "Watering on 15 minutes\n"
          ]
        }
      ]
    },
    {
      "cell_type": "markdown",
      "source": [
        "### Problem 3B\n",
        "Buatlah nested branch kondisi untuk Normal - Dry, Normal - Moist, Hot - Dry, dan Hot - Moist dengan aturan penyiraman yg telah ditentukan dengan input Hot dan Dry"
      ],
      "metadata": {
        "id": "OnmhK-ieCyHH"
      }
    },
    {
      "cell_type": "code",
      "source": [
        "# Tulis jawaban dibawah ini\n",
        "..."
      ],
      "metadata": {
        "id": "Obl6WS7REGst"
      },
      "execution_count": null,
      "outputs": []
    },
    {
      "cell_type": "markdown",
      "source": [
        "<details>\n",
        "    <summary><b>Klik untuk melihat kunci jawaban</b></summary>\n",
        "\n",
        "```python\n",
        "# Tulis jawaban dibawah ini\n",
        "temp_type = \"Hot\"\n",
        "moisture_type = \"Dry\"\n",
        "\n",
        "if temp_type == \"Normal\":\n",
        "    if moisture_type == \"Dry\":\n",
        "        print(\"Penyiraman 15 menit\")\n",
        "    elif moisture_type == \"Moist\":\n",
        "        print(\"Penyiraman 10 menit\")\n",
        "elif temp_type == \"Hot\":\n",
        "    if moisture_type == \"Dry\":\n",
        "        print(\"Penyiraman 15 menit\")\n",
        "  elif moisture_type == \"Moist\":\n",
        "        print(\"Penyiraman 10 menit\")    \n",
        "```\n",
        "\n",
        "</details>\n",
        "\n",
        "---"
      ],
      "metadata": {
        "id": "6qQcN5NNEQD9"
      }
    },
    {
      "cell_type": "markdown",
      "metadata": {
        "id": "RnWluH1Gu5i4"
      },
      "source": [
        "# List dan Tuples\n",
        "* Tuple adalah tempat untuk menyimpan lebih dari satu objek dalam suatu urutan.\n",
        "* List, serupa dengan tuple namun bersifat mutable yaitu elemennya dapat diubah."
      ]
    },
    {
      "cell_type": "code",
      "execution_count": null,
      "metadata": {
        "id": "j8AUGb2Xu5i4",
        "colab": {
          "base_uri": "https://localhost:8080/"
        },
        "outputId": "bb999feb-cf19-4d4d-c6cd-ac8b28e828d0"
      },
      "outputs": [
        {
          "output_type": "stream",
          "name": "stdout",
          "text": [
            "(1, 2, 3, 4, 5)\n"
          ]
        }
      ],
      "source": [
        "# contoh tuple\n",
        "t = (1,2,3,4,5)\n",
        "print(t)"
      ]
    },
    {
      "cell_type": "code",
      "execution_count": null,
      "metadata": {
        "id": "9rwzyT5ou5i4",
        "colab": {
          "base_uri": "https://localhost:8080/"
        },
        "outputId": "7027fde6-eba5-4f49-f3b4-8e8790e41346"
      },
      "outputs": [
        {
          "output_type": "stream",
          "name": "stdout",
          "text": [
            "('D', 'a', 't', 'a', 'M', 'i', 'n', 'i', 'n', 'g')\n"
          ]
        }
      ],
      "source": [
        "# contoh tuple dengan tipe data str\n",
        "t = tuple('DataMining')\n",
        "print(t)\n"
      ]
    },
    {
      "cell_type": "markdown",
      "metadata": {
        "id": "cIZ_Gy3Ou5i5"
      },
      "source": [
        "Selain itu, elemen-elemen dalam tuple dapat diakses menggunakan tanda bracket '[ ]'"
      ]
    },
    {
      "cell_type": "code",
      "execution_count": null,
      "metadata": {
        "id": "WoSoLMR9u5i5",
        "colab": {
          "base_uri": "https://localhost:8080/"
        },
        "outputId": "8ba02c3a-4c2c-4234-9bf4-f64a9b5d4c7b"
      },
      "outputs": [
        {
          "output_type": "stream",
          "name": "stdout",
          "text": [
            "M\n"
          ]
        }
      ],
      "source": [
        "q = t[4]\n",
        "print(q)"
      ]
    },
    {
      "cell_type": "code",
      "execution_count": null,
      "metadata": {
        "id": "k5P45QKJu5i5",
        "colab": {
          "base_uri": "https://localhost:8080/"
        },
        "outputId": "aedcbe69-235e-4ee9-cf4f-b3b8a7f3f568"
      },
      "outputs": [
        {
          "output_type": "execute_result",
          "data": {
            "text/plain": [
              "[1, 2, 3, 4, 5]"
            ]
          },
          "metadata": {},
          "execution_count": 16
        }
      ],
      "source": [
        "# Contoh List\n",
        "list1 = [1, 2, 3, 4, 5]\n",
        "list1"
      ]
    },
    {
      "cell_type": "code",
      "execution_count": null,
      "metadata": {
        "id": "G1G_mvROu5i5",
        "colab": {
          "base_uri": "https://localhost:8080/"
        },
        "outputId": "3cab7783-4360-4546-a61a-f8de760ab4ca"
      },
      "outputs": [
        {
          "output_type": "stream",
          "name": "stdout",
          "text": [
            "['D', 'a', 't', 'a', 'M', 'i', 'n', 'i', 'n', 'g']\n"
          ]
        }
      ],
      "source": [
        "# contoh\n",
        "list2 = list('DataMining')\n",
        "print(list2)"
      ]
    },
    {
      "cell_type": "markdown",
      "metadata": {
        "id": "4kj1i-oRu5i6"
      },
      "source": [
        "Pada list, dapat ditambahkan elemen baru dengan menggunakan fungsi append()untuk menambah elemen ke bagian paling belakang, atau fungsi insert() untuk menambah elemen ke bagian yang diinginkan."
      ]
    },
    {
      "cell_type": "code",
      "execution_count": null,
      "metadata": {
        "id": "83JeN2ETu5i6",
        "colab": {
          "base_uri": "https://localhost:8080/"
        },
        "outputId": "bbc88d0a-caff-4108-bbda-a48dec33ecef"
      },
      "outputs": [
        {
          "output_type": "stream",
          "name": "stdout",
          "text": [
            "['D', 'a', 't', 'a', 'M', 'i', 'n', 'i', 'n', 'g', 'B']\n"
          ]
        }
      ],
      "source": [
        "#contoh\n",
        "list2.append('B')\n",
        "print(list2)"
      ]
    },
    {
      "cell_type": "code",
      "execution_count": null,
      "metadata": {
        "id": "mWD6NIgju5i6",
        "colab": {
          "base_uri": "https://localhost:8080/"
        },
        "outputId": "2b71a21a-c51c-4cb6-86e4-530ec60ff816"
      },
      "outputs": [
        {
          "output_type": "stream",
          "name": "stdout",
          "text": [
            "['D', 'a', 't', 'a', 'M', 'B', 'i', 'n', 'i', 'n', 'g', 'B']\n"
          ]
        }
      ],
      "source": [
        "list2.insert(5, 'B')\n",
        "print(list2)"
      ]
    },
    {
      "cell_type": "markdown",
      "metadata": {
        "id": "UXiK6SZzu5i7"
      },
      "source": [
        "Selain menambahkan elemen, juga dapat menghapus elemen yang ada pada list"
      ]
    },
    {
      "cell_type": "code",
      "execution_count": null,
      "metadata": {
        "id": "JOxDJBSSu5i7",
        "colab": {
          "base_uri": "https://localhost:8080/"
        },
        "outputId": "691a5f80-ed43-4ac2-a27e-2edb1c25847d"
      },
      "outputs": [
        {
          "output_type": "stream",
          "name": "stdout",
          "text": [
            "['D', 't', 'a', 'M', 'B', 'i', 'n', 'i', 'n', 'g', 'B']\n"
          ]
        }
      ],
      "source": [
        "#contoh\n",
        "list2.pop(1)\n",
        "print(list2)"
      ]
    },
    {
      "cell_type": "code",
      "execution_count": null,
      "metadata": {
        "id": "8SZlvdcmu5i7",
        "colab": {
          "base_uri": "https://localhost:8080/"
        },
        "outputId": "56bf169f-07d0-4522-8758-1278db2877c0"
      },
      "outputs": [
        {
          "output_type": "stream",
          "name": "stdout",
          "text": [
            "['D', 't', 'M', 'B', 'i', 'n', 'i', 'n', 'g', 'B']\n"
          ]
        }
      ],
      "source": [
        "#contoh\n",
        "list2.remove('a')\n",
        "print(list2)"
      ]
    },
    {
      "cell_type": "markdown",
      "metadata": {
        "id": "OwGVIidiu5i7"
      },
      "source": [
        "List juga dapat digunakan untuk mengurutkan data dengan menggunakan fungsi sort()"
      ]
    },
    {
      "cell_type": "code",
      "execution_count": null,
      "metadata": {
        "id": "f_9agt5Au5i7",
        "colab": {
          "base_uri": "https://localhost:8080/"
        },
        "outputId": "4b17c956-5150-4076-eee1-a73fa76eed90"
      },
      "outputs": [
        {
          "output_type": "stream",
          "name": "stdout",
          "text": [
            "[1, 2, 3, 4, 5, 6, 7, 8, 9]\n"
          ]
        }
      ],
      "source": [
        "# Contoh\n",
        "list3 = [8,3,9,2,5,4,1,6,7]\n",
        "list3.sort()\n",
        "print(list3)"
      ]
    },
    {
      "cell_type": "code",
      "execution_count": null,
      "metadata": {
        "id": "Z5EyhVZIu5i7",
        "colab": {
          "base_uri": "https://localhost:8080/"
        },
        "outputId": "146b69a4-7f43-447e-dd50-3a93dff83367"
      },
      "outputs": [
        {
          "output_type": "stream",
          "name": "stdout",
          "text": [
            "[9, 8, 7, 6, 5, 4, 3, 2, 1]\n"
          ]
        }
      ],
      "source": [
        "# atau diurutkan dari terbesar ke terkecil\n",
        "list3.sort(reverse=True)\n",
        "print(list3)"
      ]
    },
    {
      "cell_type": "markdown",
      "metadata": {
        "id": "m-ViWoTSu5i8"
      },
      "source": [
        "Untuk tipe data str, mengurutkan elemen-elemen berdasarkan panjang str tersebut"
      ]
    },
    {
      "cell_type": "code",
      "execution_count": null,
      "metadata": {
        "id": "v2JB27ZAu5i8",
        "colab": {
          "base_uri": "https://localhost:8080/"
        },
        "outputId": "b180511c-f6c2-44e2-e2f0-f79d3d70b6a6"
      },
      "outputs": [
        {
          "output_type": "stream",
          "name": "stdout",
          "text": [
            "['jklmn', 'abc', 'ghi', 'de', 'op', 'f']\n"
          ]
        }
      ],
      "source": [
        "# contoh\n",
        "list4 = ['abc', 'de', 'f','ghi','jklmn','op']\n",
        "list4.sort(key=len, reverse=True)\n",
        "print(list4)"
      ]
    },
    {
      "cell_type": "markdown",
      "metadata": {
        "id": "yEGc-V5Lu5i8"
      },
      "source": [
        "Salah satu hal yang sering dilakukan terhadap data adalah mengambil subset (sebagian) dari data. Untuk hal ini digunakan notasi slicing (pemotongan), yaitu [start : stop] di samping list."
      ]
    },
    {
      "cell_type": "code",
      "execution_count": null,
      "metadata": {
        "id": "NUT03Lnau5i8",
        "colab": {
          "base_uri": "https://localhost:8080/"
        },
        "outputId": "dc4519c4-83eb-4e4b-98b8-7badadf489f4"
      },
      "outputs": [
        {
          "output_type": "execute_result",
          "data": {
            "text/plain": [
              "['a', 'b', 'c', 'd', 'e', 'f']"
            ]
          },
          "metadata": {},
          "execution_count": 25
        }
      ],
      "source": [
        "#contoh\n",
        "list5 = ['a', 'b', 'c', 'd', 'e','f','g']\n",
        "list5[0:6]"
      ]
    },
    {
      "cell_type": "code",
      "execution_count": null,
      "metadata": {
        "id": "gvhXpqPCu5i8",
        "colab": {
          "base_uri": "https://localhost:8080/"
        },
        "outputId": "7595cfcf-2b03-4fdc-9239-e2a350df77c8"
      },
      "outputs": [
        {
          "output_type": "execute_result",
          "data": {
            "text/plain": [
              "['a', 'b']"
            ]
          },
          "metadata": {},
          "execution_count": 26
        }
      ],
      "source": [
        "list5[: 2]"
      ]
    },
    {
      "cell_type": "code",
      "execution_count": null,
      "metadata": {
        "id": "HjH7iSatu5i8",
        "colab": {
          "base_uri": "https://localhost:8080/"
        },
        "outputId": "332cf37b-ebf7-465f-fdc1-78ae99fe68c8"
      },
      "outputs": [
        {
          "output_type": "execute_result",
          "data": {
            "text/plain": [
              "['d', 'e', 'f', 'g']"
            ]
          },
          "metadata": {},
          "execution_count": 27
        }
      ],
      "source": [
        "list5[3 : ]"
      ]
    },
    {
      "cell_type": "markdown",
      "metadata": {
        "id": "lQmRoEJ6u5i8"
      },
      "source": [
        "Suatu list juga dapat terdiri dari banyak list."
      ]
    },
    {
      "cell_type": "code",
      "execution_count": null,
      "metadata": {
        "id": "ULbUU3Phu5i8",
        "colab": {
          "base_uri": "https://localhost:8080/"
        },
        "outputId": "94d203ef-eeb5-4032-a2be-1ce747c4b8f8"
      },
      "outputs": [
        {
          "output_type": "stream",
          "name": "stdout",
          "text": [
            "[[1, 2, 3], [4, 5, 6], [7, 8, 9]]\n"
          ]
        }
      ],
      "source": [
        "#Contoh\n",
        "list6 = [[1,2,3],[4,5,6],[7,8,9]]\n",
        "print(list6)"
      ]
    },
    {
      "cell_type": "code",
      "execution_count": null,
      "metadata": {
        "id": "uEfEeWoDu5i8",
        "colab": {
          "base_uri": "https://localhost:8080/"
        },
        "outputId": "cc8a8332-59c6-416f-a725-7ac8000ab5f7"
      },
      "outputs": [
        {
          "output_type": "stream",
          "name": "stdout",
          "text": [
            "List 1 = [1, 2, 3]\n",
            "List 2 = [4, 5, 6]\n",
            "List 3 = [7, 8, 9]\n"
          ]
        }
      ],
      "source": [
        "# Untuk mengakses seluruh isi suatu list yang terdiri dari beberapa list\n",
        "n = 0\n",
        "for x in list6:\n",
        "    n = n + 1\n",
        "    print('List', n ,'=', x)"
      ]
    },
    {
      "cell_type": "markdown",
      "metadata": {
        "id": "7_1dyoVUu5i9"
      },
      "source": [
        "Pada dasarnya, sebuah List akan berguna saat diperlukan tempat untuk menyimpan serangkaian nilai yang bisa diubah-ubah. Namun, hal ini kurang efisien jika terdapat ribuan atau puluhan ribu elemen dalam list, karena Python harus menggeser semua elemen untuk memberi ruang bagi elemen baru yang masuk."
      ]
    },
    {
      "cell_type": "markdown",
      "metadata": {
        "id": "f7dQVS2Wu5i9"
      },
      "source": [
        "# Dictionary\n",
        "Salah satu struktur data lain yang juga penting adalah tipe data dict. Hampir mirip dengan list, dict juga mutable, namun dict digunakan untuk menyimpan pasangan key-value (kunci dan nilai isinya)."
      ]
    },
    {
      "cell_type": "code",
      "execution_count": null,
      "metadata": {
        "id": "jhy0nchHu5i9",
        "colab": {
          "base_uri": "https://localhost:8080/"
        },
        "outputId": "3cc82fe9-dc07-4ac7-f987-0fb78ce592f6"
      },
      "outputs": [
        {
          "output_type": "execute_result",
          "data": {
            "text/plain": [
              "dict_items([('senin', 'Ekonomi, Peng. Data Mining'), ('selasa', 'Praktikum, Asuransi Kesehatan'), ('rabu', 'Asuransi Umum, Dana Pensiun')])"
            ]
          },
          "metadata": {},
          "execution_count": 32
        }
      ],
      "source": [
        "# Contoh\n",
        "MK = {\"senin\": \"Ekonomi, Peng. Data Mining\", \"selasa\": \"Praktikum, Asuransi Kesehatan\", \"rabu\": \"Asuransi Umum, Dana Pensiun\"}\n",
        "MK.items()"
      ]
    },
    {
      "cell_type": "code",
      "execution_count": null,
      "metadata": {
        "id": "uhapw5Euu5i9",
        "colab": {
          "base_uri": "https://localhost:8080/",
          "height": 35
        },
        "outputId": "7a845a3a-fad5-47a9-b3c2-8121b86ac82c"
      },
      "outputs": [
        {
          "output_type": "execute_result",
          "data": {
            "text/plain": [
              "'Praktikum, Asuransi Kesehatan'"
            ],
            "application/vnd.google.colaboratory.intrinsic+json": {
              "type": "string"
            }
          },
          "metadata": {},
          "execution_count": 33
        }
      ],
      "source": [
        "MK['selasa']"
      ]
    },
    {
      "cell_type": "code",
      "source": [
        "num_dict = {1: \"one\", 2: \"two\", 1: \"three\"}\n",
        "\n",
        "# kita akan mengganti value pada key 1 menjadi 'ayam'\n",
        "num_dict[1] = 'ayam'\n",
        "\n",
        "print(num_dict)"
      ],
      "metadata": {
        "colab": {
          "base_uri": "https://localhost:8080/"
        },
        "id": "QnpGY1DNIL-P",
        "outputId": "72b28287-559b-4a1d-ea50-a8e16cc51c26"
      },
      "execution_count": null,
      "outputs": [
        {
          "output_type": "stream",
          "name": "stdout",
          "text": [
            "{1: 'ayam', 2: 'two'}\n"
          ]
        }
      ]
    },
    {
      "cell_type": "markdown",
      "source": [
        "# Looping"
      ],
      "metadata": {
        "id": "xGfqo5LMIkvI"
      }
    },
    {
      "cell_type": "markdown",
      "source": [
        "What is a Looping ?\n",
        "\n",
        "Mungkin dari kita pernah mendapat sanksi dari guru sewaktu masih sekolah untuk menulis kalimat yang sama berulang-ulang sebanyak 50 atau bahkan 100 kali. Pasti memakan waktu yang lama dan pastinya akan capek. Di bahasa pemrograman kita bisa melakukannya dengan satu kedipan mata.\n",
        "\n",
        "`Looping` atau **perulangan** adalah metode di dalam sebuah bahasa pemrograman untuk melakukan suatu pekerjaan seperti menampilkan data, memproses data atau pekerjaan yang lainnya yang sifatnya **repetitif** atau **berulang** (**loop**). Misalnya seperti:\n",
        " - Menambahkan angka 100 kali\n",
        " - Menulis kalimat yang sama sebanyak 50 kali\n",
        " - Mencari channel TV yang bagus\n",
        " - Fotocopy sebuah KTP sebanyak 5 lembar\n",
        " - dll\n",
        "\n",
        "Pada bahasa pemrograman Python ada **dua** jenis `looping`, yaitu\n",
        " - `for`\n",
        " - `while`"
      ],
      "metadata": {
        "id": "75p9ZczvIoFX"
      }
    },
    {
      "cell_type": "markdown",
      "source": [
        "Perbedaan antara `for` dan `while` adalah:\n",
        " - Ketika menggunakan `for`, kita sudah **mengetahui** objek apa yang akan di `loop`.\n",
        " - Ketika menggunakan `while`, perulangan ini memiliki **kondisi yang harus dipenuhi** dan akan berhenti ketika kondisi sudah tidak terpenuhi, oleh karena itu, `while` belum diketahui banyak perulangannya.\n",
        "\n",
        "![image.png](data:image/png;base64,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)"
      ],
      "metadata": {
        "id": "iRsPYNm2I0pf"
      }
    },
    {
      "cell_type": "markdown",
      "source": [
        "## **For Loop**"
      ],
      "metadata": {
        "id": "R1LiFY1-KL_6"
      }
    },
    {
      "cell_type": "markdown",
      "source": [
        "Biasanya jika kita ingin mencetak sesuatu kita menggunakan keyword print. Namun ini akan menjadi tidak efisien jika kita print kata yang berulang kali. Misalnya seperti print 10 bilangan awal secara berurutan. Jadi kode yang kita pakai\n",
        "\n",
        "```python\n",
        "print(1)\n",
        "print(2)\n",
        "print(3)\n",
        "...\n",
        "print(10)\n",
        "```\n",
        "Bagaimana jika ingin print 50 atau 100 lagi? Pasti akan capek dan hal ini tidak efisien.\n",
        "\n",
        "Kita bisa otomatisasi print hal yang berulang tersebut dengan `for` loop.\n",
        "\n",
        "\n",
        "\n"
      ],
      "metadata": {
        "id": "6ktNwD4TKeja"
      }
    },
    {
      "cell_type": "markdown",
      "source": [
        "Struktur perulangan `for` adalah sebagai berikut\n",
        "\n",
        "```python\n",
        "for iterator_variable in sequence_name:\n",
        "\tStatements\n",
        "\t. . .\n",
        "\tStatements\n",
        "```\n",
        "- keyword `for` menandakan awal dari `for` loop.\n",
        "- `iterator_variabel` adalah variabel yang kita gunakan untuk menyimpan nilai pada saat kita melakukan for loop\n",
        "- keyword `in` memberi tahu variabel iterator untuk mengulang elemen dalam urutan\n",
        "- `sequence_name` adalah tipe data yang memiliki urutan, seperti list, set, tuple, dictionary dll.\n"
      ],
      "metadata": {
        "id": "naayp5baKsPl"
      }
    },
    {
      "cell_type": "code",
      "source": [
        "for angka in range(5):\n",
        "    print(angka)"
      ],
      "metadata": {
        "colab": {
          "base_uri": "https://localhost:8080/"
        },
        "id": "bT38ul_1K71b",
        "outputId": "2e276dc8-381a-4ab8-9d64-01720193fbb6"
      },
      "execution_count": null,
      "outputs": [
        {
          "output_type": "stream",
          "name": "stdout",
          "text": [
            "0\n",
            "1\n",
            "2\n",
            "3\n",
            "4\n"
          ]
        }
      ]
    },
    {
      "cell_type": "code",
      "source": [
        "for angka in range(5,11):\n",
        "    print(angka)"
      ],
      "metadata": {
        "colab": {
          "base_uri": "https://localhost:8080/"
        },
        "id": "W1rRyNyNLIcv",
        "outputId": "ad6cc992-fcb3-4770-cc13-9f09e7e4c1f9"
      },
      "execution_count": null,
      "outputs": [
        {
          "output_type": "stream",
          "name": "stdout",
          "text": [
            "5\n",
            "6\n",
            "7\n",
            "8\n",
            "9\n",
            "10\n"
          ]
        }
      ]
    },
    {
      "cell_type": "code",
      "source": [
        "for angka in range(0, 10, 2):\n",
        "    print(angka)"
      ],
      "metadata": {
        "colab": {
          "base_uri": "https://localhost:8080/"
        },
        "id": "AZg-m8CWLQJ8",
        "outputId": "656f363c-13ff-449e-aeb5-a5c54ea7005e"
      },
      "execution_count": null,
      "outputs": [
        {
          "output_type": "stream",
          "name": "stdout",
          "text": [
            "0\n",
            "2\n",
            "4\n",
            "6\n",
            "8\n"
          ]
        }
      ]
    },
    {
      "cell_type": "code",
      "source": [
        "for angka_1 in range (1,3):\n",
        "    for angka_2 in range (1,6):\n",
        "        pertambahan = angka_1 + angka_2\n",
        "        print(f'{angka_1} + {angka_2} = {pertambahan}')\n",
        "    print('---')"
      ],
      "metadata": {
        "colab": {
          "base_uri": "https://localhost:8080/"
        },
        "id": "LwVNEl4rLcUA",
        "outputId": "04c46171-0cd6-443d-d0ea-42318d109c5e"
      },
      "execution_count": null,
      "outputs": [
        {
          "output_type": "stream",
          "name": "stdout",
          "text": [
            "1 + 1 = 2\n",
            "1 + 2 = 3\n",
            "1 + 3 = 4\n",
            "1 + 4 = 5\n",
            "1 + 5 = 6\n",
            "---\n",
            "2 + 1 = 3\n",
            "2 + 2 = 4\n",
            "2 + 3 = 5\n",
            "2 + 4 = 6\n",
            "2 + 5 = 7\n",
            "---\n"
          ]
        }
      ]
    },
    {
      "cell_type": "code",
      "source": [
        "tuple_kota = ('Surabaya', 'Malang', 'Bandung')\n",
        "for kota in tuple_kota:\n",
        "    print(kota)"
      ],
      "metadata": {
        "colab": {
          "base_uri": "https://localhost:8080/"
        },
        "id": "FIF_kZ7ELoQz",
        "outputId": "57049cda-016e-4efb-f7ae-79c06d85eb01"
      },
      "execution_count": null,
      "outputs": [
        {
          "output_type": "stream",
          "name": "stdout",
          "text": [
            "Surabaya\n",
            "Malang\n",
            "Bandung\n"
          ]
        }
      ]
    },
    {
      "cell_type": "code",
      "source": [
        "gaji_dict = {'Dika':4_000_000, 'Rendy':3_5000_000, 'Satria':5_000_000}\n",
        "\n",
        "for key,value in gaji_dict.items():\n",
        "  print(f'Nama {key} | Gaji Rp {value}')"
      ],
      "metadata": {
        "colab": {
          "base_uri": "https://localhost:8080/"
        },
        "id": "UZPfuMkBLyGb",
        "outputId": "0b6cb6ff-2f3a-4be8-e3e3-e2bacc5b11a3"
      },
      "execution_count": null,
      "outputs": [
        {
          "output_type": "stream",
          "name": "stdout",
          "text": [
            "Nama Dika | Gaji Rp 4000000\n",
            "Nama Rendy | Gaji Rp 35000000\n",
            "Nama Satria | Gaji Rp 5000000\n"
          ]
        }
      ]
    },
    {
      "cell_type": "markdown",
      "source": [
        "## **While Loop**\n"
      ],
      "metadata": {
        "id": "UwDcDgmYtqJl"
      }
    },
    {
      "cell_type": "markdown",
      "source": [
        "Jika perulangan `for` sudah kita ketahui objek yang akan di loop dan banyaknya looping. Semisal kita akan melakukan looping sebanyak 10x. Maka dalam while kita tidak mengetahui berapa banyak loop akan dijalankan.\n",
        "\n"
      ],
      "metadata": {
        "id": "lbBvK_vauTgI"
      }
    },
    {
      "cell_type": "markdown",
      "source": [
        "### **While in general**"
      ],
      "metadata": {
        "id": "rvpQw5EmuXut"
      }
    },
    {
      "cell_type": "markdown",
      "source": [
        "Bentuk umum while adalah:\n",
        "```python\n",
        "while <condition>:\n",
        "    # Jika kondisi benar\n",
        "    run_this_statement\n",
        "```\n",
        "\n",
        "Berarti selama kondisi masih terpenuhi maka akan terus mengeksekusi blok statement"
      ],
      "metadata": {
        "id": "cu1SwAgVucSB"
      }
    },
    {
      "cell_type": "markdown",
      "source": [
        "![image.png](data:image/png;base64,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)"
      ],
      "metadata": {
        "id": "1xr_nNR6ujKo"
      }
    },
    {
      "cell_type": "markdown",
      "source": [
        "`while` loop biasanya harus disertai dengan nilai yang selalu berubah."
      ],
      "metadata": {
        "id": "-PyY2MsQuoUg"
      }
    },
    {
      "cell_type": "code",
      "source": [
        "# coba jalankan code dibawah ini\n",
        "counter = 0\n",
        "max = 5\n",
        "\n",
        "while counter <= max: #jika counter masih kurang dari max, code akan tetap berjalan\n",
        "    print(f'Sekarang angka {counter}')\n",
        "    counter += 1 #counter akan ditambahkan 1 agar perulangan bisa berhenti"
      ],
      "metadata": {
        "colab": {
          "base_uri": "https://localhost:8080/"
        },
        "id": "y_pbNXDHur3N",
        "outputId": "67b59a26-4803-45ae-e295-3ee0838bc06d"
      },
      "execution_count": null,
      "outputs": [
        {
          "output_type": "stream",
          "name": "stdout",
          "text": [
            "Sekarang angka 0\n",
            "Sekarang angka 1\n",
            "Sekarang angka 2\n",
            "Sekarang angka 3\n",
            "Sekarang angka 4\n",
            "Sekarang angka 5\n"
          ]
        }
      ]
    },
    {
      "cell_type": "code",
      "source": [
        "angka = 5\n",
        "while angka >= 0: # \"angka\" disini memenuhi kondisi while, maka looping akan berjalan\n",
        "    print(angka)\n",
        "    angka -= 1 # variabel angka akan dikurangi dengan 1 sampai kondisi di atas tidak terpenuhi"
      ],
      "metadata": {
        "colab": {
          "base_uri": "https://localhost:8080/"
        },
        "id": "vJ7hglHwu2V4",
        "outputId": "47eb4671-8d2a-4760-94ec-46c366eca571"
      },
      "execution_count": null,
      "outputs": [
        {
          "output_type": "stream",
          "name": "stdout",
          "text": [
            "5\n",
            "4\n",
            "3\n",
            "2\n",
            "1\n",
            "0\n"
          ]
        }
      ]
    },
    {
      "cell_type": "code",
      "source": [
        "# Coba jalankan kode dibawah ini\n",
        "# kita akan membuat while - else dari angka 1 - 3\n",
        "\n",
        "numb = 1\n",
        "\n",
        "while numb <= 3: # jika nilai numb masih kurang sama dengan tiga maka proses akan terus berlangsung\n",
        "    print(f'Nilai numb sekarang {numb}')\n",
        "    numb += 1\n",
        "else: # else akan di eksekusi karena nilai numb sudah lebih dari 3\n",
        "    print(f\"Nilai numb sekarang {numb} sudah lebih dari 3.\")"
      ],
      "metadata": {
        "colab": {
          "base_uri": "https://localhost:8080/"
        },
        "id": "Vqlubxdku_oT",
        "outputId": "fd5b454a-f22f-45a2-f7e9-fc3f8eb0e5ac"
      },
      "execution_count": null,
      "outputs": [
        {
          "output_type": "stream",
          "name": "stdout",
          "text": [
            "Nilai numb sekarang 1\n",
            "Nilai numb sekarang 2\n",
            "Nilai numb sekarang 3\n",
            "Nilai numb sekarang 4 sudah lebih dari 3.\n"
          ]
        }
      ]
    },
    {
      "cell_type": "markdown",
      "source": [
        "---\n",
        "## Function\n",
        "\n",
        "### Membuat Sebuah Fungsi\n",
        "\n",
        "\n",
        "```python\n",
        "def <nama_fungsi>(parameters):\n",
        "    kode\n",
        "```\n"
      ],
      "metadata": {
        "id": "tuiRWkgAvbOx"
      }
    },
    {
      "cell_type": "code",
      "source": [
        "# fungsi dengan parameter\n",
        "def identitas(nama, asal, umur):\n",
        "    print(f'{nama} berasal dari {asal} berumur {str(umur)} tahun')\n",
        "\n",
        "# memanggil fungsi\n",
        "identitas('Astri', '22', 'Malang')"
      ],
      "metadata": {
        "colab": {
          "base_uri": "https://localhost:8080/"
        },
        "id": "pA51YWQ4xI9U",
        "outputId": "348d84d5-9fb2-4708-ba5b-42005ea4703b"
      },
      "execution_count": null,
      "outputs": [
        {
          "output_type": "stream",
          "name": "stdout",
          "text": [
            "Astri berasal dari 22 berumur Malang tahun\n"
          ]
        }
      ]
    },
    {
      "cell_type": "code",
      "source": [
        "def diskon(promo, harga):\n",
        "    if promo == True:\n",
        "        potongan = 50/100\n",
        "        total_harga = int(harga * potongan)\n",
        "        print(total_harga)\n",
        "\n",
        "    else:\n",
        "        print(harga)"
      ],
      "metadata": {
        "id": "IXlPtEDWxc7L"
      },
      "execution_count": null,
      "outputs": []
    },
    {
      "cell_type": "code",
      "source": [
        "diskon(True, 100000)"
      ],
      "metadata": {
        "id": "UhkorwA-xfxP",
        "colab": {
          "base_uri": "https://localhost:8080/"
        },
        "outputId": "f94b31eb-e7e1-4004-8554-916277ad2286"
      },
      "execution_count": null,
      "outputs": [
        {
          "output_type": "stream",
          "name": "stdout",
          "text": [
            "50000\n"
          ]
        }
      ]
    },
    {
      "cell_type": "code",
      "source": [
        "diskon(False, 100000)"
      ],
      "metadata": {
        "colab": {
          "base_uri": "https://localhost:8080/"
        },
        "id": "MMN4CDEei42-",
        "outputId": "0fced107-8ff9-4737-888e-f114838f2555"
      },
      "execution_count": null,
      "outputs": [
        {
          "output_type": "stream",
          "name": "stdout",
          "text": [
            "100000\n"
          ]
        }
      ]
    },
    {
      "cell_type": "code",
      "source": [
        "# fungsi dengan keyword arguments\n",
        "def luas_lingkaran(jari_jari, PI = 3.14):\n",
        "    print(f\"Luas lingkaran dari jari-jari {jari_jari} adalah {PI*jari_jari*jari_jari}\")\n",
        "\n",
        "# memanggil fungsi\n",
        "luas_lingkaran(4)\n",
        "luas_lingkaran(8)\n",
        "luas_lingkaran(12)"
      ],
      "metadata": {
        "colab": {
          "base_uri": "https://localhost:8080/"
        },
        "id": "XYKOumq8yF4M",
        "outputId": "07acb3db-93b7-49d3-c7e9-5dcbdcbd4e0a"
      },
      "execution_count": null,
      "outputs": [
        {
          "output_type": "stream",
          "name": "stdout",
          "text": [
            "Luas lingkaran dari jari-jari 4 adalah 50.24\n",
            "Luas lingkaran dari jari-jari 8 adalah 200.96\n",
            "Luas lingkaran dari jari-jari 12 adalah 452.15999999999997\n"
          ]
        }
      ]
    },
    {
      "cell_type": "markdown",
      "metadata": {
        "id": "LR468XJNu5i9"
      },
      "source": [
        "# Lambda Function\n",
        "Pada Python, kita juga dapat membuat fungsi sederhana tanpa harus diberi nama tertentu (hanya berupa statement). Misalnya suatu fungsi sederhana yang hanya digunakan satu kali. Untuk ini Python menyediakan kata kunci lamda yang artinya adalah fungsi anonim, tanpa nama."
      ]
    },
    {
      "cell_type": "markdown",
      "source": [
        "### Perbedaan Fungsi Lambda dan Fungsi Biasa\n",
        "\n",
        "\n",
        "| Fungsi Lambda                    | Fungsi biasa                         |\n",
        "|---------------------------------|----------------------------|\n",
        "| Tidak perlu mendefinisikan nama fungsi (anonymous) |  Harus mendefinisikan nama fungsi |\n",
        "| Berisi baris tunggal yang dapat mengembalikan beberapa nilai | Dapat berisi satu maupun lebih baris didalam blok fungsi\n",
        "| Kode program pendek dan singkat | Kode program yang dibangun lebih panjang dibanding fungsi lambda\n",
        "| Cocok untuk operasi pendek/manipulasi data |Cocok untuk kasus yang memerlukan banyak baris kode |\n",
        "| Kode program pada fungsi lambda terkadang dapat lebih sulit dipahami |Lebih mudah dipahami karena dapat menambah keterangan dan deskripsi fungsi agar mudah dibaca |\n"
      ],
      "metadata": {
        "id": "tGcaL7aNyWmj"
      }
    },
    {
      "cell_type": "markdown",
      "source": [
        "```python\n",
        "lambda <parameters>: <expression>\n",
        "```\n",
        "\n",
        "Untuk membuat fungsi lambda dibutuhkan tiga bagian utama:\n",
        "  * `lambda` : keyword untuk membuat fungsi lambda.\n",
        "  * `parameters` : berisi param"
      ],
      "metadata": {
        "id": "wpKChMUFyfI3"
      }
    },
    {
      "cell_type": "code",
      "execution_count": null,
      "metadata": {
        "id": "vspqQZBzu5i9",
        "colab": {
          "base_uri": "https://localhost:8080/"
        },
        "outputId": "4a15428a-6f7a-4e76-bacb-a0fae428cc61"
      },
      "outputs": [
        {
          "output_type": "execute_result",
          "data": {
            "text/plain": [
              "4"
            ]
          },
          "metadata": {},
          "execution_count": 51
        }
      ],
      "source": [
        "#Fungsi yang berisi perhitungan kuadrat\n",
        "kuadrat = lambda num : num * num\n",
        "\n",
        "kuadrat(2)"
      ]
    },
    {
      "cell_type": "code",
      "source": [
        "profit = lambda pendapatan, pengeluaran: pendapatan - pengeluaran\n",
        "\n",
        "profit(1200000, 935000)"
      ],
      "metadata": {
        "colab": {
          "base_uri": "https://localhost:8080/"
        },
        "id": "ln8NqAogyM1p",
        "outputId": "3a54dac7-fea2-4f09-e5ce-ad0921da6d89"
      },
      "execution_count": null,
      "outputs": [
        {
          "output_type": "execute_result",
          "data": {
            "text/plain": [
              "265000"
            ]
          },
          "metadata": {},
          "execution_count": 52
        }
      ]
    },
    {
      "cell_type": "markdown",
      "metadata": {
        "id": "VG9kz4Cuu5i-"
      },
      "source": [
        "# Import\n",
        "Python juga menyediakan berbagai modul serta package yang dapat dipanggil sewaktu-waktu. Modul dapat berupa modul standar python, atau modul yang dibuat sendiri. Perintah yang digunakan untuk memanggil modul tersebut adalah import."
      ]
    },
    {
      "cell_type": "code",
      "execution_count": null,
      "metadata": {
        "id": "AhovgF5Mu5i-",
        "colab": {
          "base_uri": "https://localhost:8080/"
        },
        "outputId": "98bd6524-d18f-4431-e301-95f55bec2cfe"
      },
      "outputs": [
        {
          "output_type": "stream",
          "name": "stdout",
          "text": [
            "50\n"
          ]
        }
      ],
      "source": [
        "# Contoh\n",
        "import math as m\n",
        "y = m.ceil(49.5)\n",
        "print(y)"
      ]
    },
    {
      "cell_type": "markdown",
      "metadata": {
        "id": "Dmxe_rOIu5i-"
      },
      "source": [
        "# Library\n",
        "Library pada Python merupakan sebutan untuk kode program tambahan yang digunakan untuk kebutuhan tertentu. Python mempunyai lebih dari 140.000 library yang dikembangkan melalui open source project. Beberapa contoh library pada Python adalah\n",
        "* NumPy\n",
        "* Pandas\n",
        "* Seaborn\n",
        "* Pyplot\n",
        "* Scikit - learn\n",
        "* MLXtend\n",
        "* Keras"
      ]
    },
    {
      "cell_type": "markdown",
      "metadata": {
        "id": "bgxKSonau5i-"
      },
      "source": [
        "# NumPy\n",
        "Meskipun Python telah memiliki kemampuan untuk mengolah data dalam bentuk list dan tuple, namun hal ini masih kurang efisien untuk mengolah data untuk multidimension array (array yang berdimensi banyak) dibandingkan dengan bahasa pemrograman lain seperti C++ atau Java.\n",
        "\n",
        "Sehingga, dibuatlah suatu library baru yaitu Numerical Python atau sering dikenal dengan NumPy.\n",
        "\n",
        "Array dalam NumPy sebenarnya mirip dengan List dan Tuple, bedanya setiap elemen dalam array haruslah bertipe sama. Array satu dimensi dapat dianggap sebagai satu baris variabel yang sama, sementara array dua dimensi dapat dilihat sebagai tabel dengan banyak baris dan banyak kolom. Pada Python untuk menyatakan dimensi suatu array digunakan istilah Rank."
      ]
    },
    {
      "cell_type": "code",
      "execution_count": null,
      "metadata": {
        "id": "2G62ouCku5i-",
        "colab": {
          "base_uri": "https://localhost:8080/"
        },
        "outputId": "a1491172-8110-4d6b-83d5-9c4ee643c28a"
      },
      "outputs": [
        {
          "output_type": "stream",
          "name": "stdout",
          "text": [
            "[ 1  3  5  7  9 11 13 17 23 29]\n"
          ]
        }
      ],
      "source": [
        "# contoh\n",
        "import numpy as np\n",
        "x = np.array([1,3,5,7,9,11,13,17,23,29])\n",
        "print(x)"
      ]
    },
    {
      "cell_type": "code",
      "execution_count": null,
      "metadata": {
        "id": "E2WkUxWqu5i_",
        "colab": {
          "base_uri": "https://localhost:8080/"
        },
        "outputId": "ad1d6fdb-37a2-4c7e-d8af-2f3a41b3d240"
      },
      "outputs": [
        {
          "output_type": "stream",
          "name": "stdout",
          "text": [
            "10\n"
          ]
        }
      ],
      "source": [
        "#untuk mengecek ada berapa banyak elemen yang terdapat dalam array\n",
        "print(x.size)"
      ]
    },
    {
      "cell_type": "code",
      "execution_count": null,
      "metadata": {
        "id": "Q0x5J3SJu5i_",
        "colab": {
          "base_uri": "https://localhost:8080/"
        },
        "outputId": "70c03f55-2cc6-4abd-b287-e06a57d54aad"
      },
      "outputs": [
        {
          "output_type": "execute_result",
          "data": {
            "text/plain": [
              "array([ 9, 11, 13, 17])"
            ]
          },
          "metadata": {},
          "execution_count": 56
        }
      ],
      "source": [
        "#mengambil elemen tertentu\n",
        "x[4:8]"
      ]
    },
    {
      "cell_type": "code",
      "execution_count": null,
      "metadata": {
        "id": "9hpES5gUu5i_",
        "colab": {
          "base_uri": "https://localhost:8080/"
        },
        "outputId": "bb72c6c7-3698-4375-84a1-be3089b9b467"
      },
      "outputs": [
        {
          "output_type": "stream",
          "name": "stdout",
          "text": [
            "[ 1  3  5  7  9 11 13  0 23 29]\n"
          ]
        }
      ],
      "source": [
        "#Mengubah elemen tertentu\n",
        "x[7] = 0\n",
        "print(x)"
      ]
    },
    {
      "cell_type": "code",
      "execution_count": null,
      "metadata": {
        "id": "EeHRaTFGu5i_",
        "colab": {
          "base_uri": "https://localhost:8080/"
        },
        "outputId": "1d53f1c7-4fcb-4091-a0da-420bd9bf6ee1"
      },
      "outputs": [
        {
          "output_type": "stream",
          "name": "stdout",
          "text": [
            "[[1 2 3]\n",
            " [4 5 6]]\n"
          ]
        }
      ],
      "source": [
        "# Contoh array 2-dimensi\n",
        "y = np.array([[1,2,3],[4,5,6]])\n",
        "print(y)"
      ]
    },
    {
      "cell_type": "code",
      "execution_count": null,
      "metadata": {
        "id": "g8LqnOPAu5i_",
        "colab": {
          "base_uri": "https://localhost:8080/"
        },
        "outputId": "fb8602d4-e5f6-4ee9-eae7-bb62ffb0ef6f"
      },
      "outputs": [
        {
          "output_type": "stream",
          "name": "stdout",
          "text": [
            "(2, 3)\n"
          ]
        }
      ],
      "source": [
        "print(y.shape)"
      ]
    },
    {
      "cell_type": "markdown",
      "metadata": {
        "id": "A10Emaftu5i_"
      },
      "source": [
        "Salah satu alasan penggunaan NumPy adalah untuk efisiensi dalam pengelolaan memori komputer dibandingkan dengan list."
      ]
    },
    {
      "cell_type": "code",
      "source": [
        "#menghitung pv dari tabel\n",
        "f = np.array([100000,400000,600000])      #input data\n",
        "i = np.array([0.03,0.06,0.08])\n",
        "n = np.array([2,4,6])\n",
        "\n",
        "def pv(f,i,n):     #Present value\n",
        "    v = f / (1+i) ** n            #persamaan present value\n",
        "    return v\n",
        "\n",
        "print(pv(f, i, n))"
      ],
      "metadata": {
        "colab": {
          "base_uri": "https://localhost:8080/"
        },
        "id": "wPfKFCjSmM_n",
        "outputId": "54a2d1c6-5dda-478f-f68f-e20f0ef81d76"
      },
      "execution_count": null,
      "outputs": [
        {
          "output_type": "stream",
          "name": "stdout",
          "text": [
            "[ 94259.59091338 316837.46529521 378101.77612986]\n"
          ]
        }
      ]
    },
    {
      "cell_type": "markdown",
      "metadata": {
        "id": "XzAeFYBlu5i_"
      },
      "source": [
        "# Pandas\n",
        "Pandas dapat membuat sebuah file ke dalam tabel virtual menyerupai spreadsheet. Pandas juga berfungsi mengolah suatu data seperti Teknik join, distinct, group by, agregasi dan teknik lainnya. Kelebihan dari Pandas adalah dapat membaca file dari berbagai format seperti .txt, .csv, .xlsx, dan .tsv"
      ]
    },
    {
      "cell_type": "code",
      "execution_count": null,
      "metadata": {
        "id": "8D0Ekjanu5i_",
        "colab": {
          "base_uri": "https://localhost:8080/",
          "height": 206
        },
        "outputId": "0c06cc88-c238-4d69-98dc-2238b9205b3d"
      },
      "outputs": [
        {
          "output_type": "execute_result",
          "data": {
            "text/plain": [
              "   No     NIU                            Nama             Prodi\n",
              "0   1  492729                AMALIA NUR ZAHRO     S1 STATISTIKA\n",
              "1   2  492786  Immanuella Rere Kusumawardhani     S1 STATISTIKA\n",
              "2   3  492812            Adam Adhitya Prayoga  S1 ILMU AKTUARIA\n",
              "3   4  492912         REVALDY HAZZA DANISWARA  S1 ILMU AKTUARIA\n",
              "4   5  493047         Gabriella Yoanda Pelawi     S1 STATISTIKA"
            ],
            "text/html": [
              "\n",
              "  <div id=\"df-6d68f10b-f1e8-4717-b46c-bebed0d1d6b7\" class=\"colab-df-container\">\n",
              "    <div>\n",
              "<style scoped>\n",
              "    .dataframe tbody tr th:only-of-type {\n",
              "        vertical-align: middle;\n",
              "    }\n",
              "\n",
              "    .dataframe tbody tr th {\n",
              "        vertical-align: top;\n",
              "    }\n",
              "\n",
              "    .dataframe thead th {\n",
              "        text-align: right;\n",
              "    }\n",
              "</style>\n",
              "<table border=\"1\" class=\"dataframe\">\n",
              "  <thead>\n",
              "    <tr style=\"text-align: right;\">\n",
              "      <th></th>\n",
              "      <th>No</th>\n",
              "      <th>NIU</th>\n",
              "      <th>Nama</th>\n",
              "      <th>Prodi</th>\n",
              "    </tr>\n",
              "  </thead>\n",
              "  <tbody>\n",
              "    <tr>\n",
              "      <th>0</th>\n",
              "      <td>1</td>\n",
              "      <td>492729</td>\n",
              "      <td>AMALIA NUR ZAHRO</td>\n",
              "      <td>S1 STATISTIKA</td>\n",
              "    </tr>\n",
              "    <tr>\n",
              "      <th>1</th>\n",
              "      <td>2</td>\n",
              "      <td>492786</td>\n",
              "      <td>Immanuella Rere Kusumawardhani</td>\n",
              "      <td>S1 STATISTIKA</td>\n",
              "    </tr>\n",
              "    <tr>\n",
              "      <th>2</th>\n",
              "      <td>3</td>\n",
              "      <td>492812</td>\n",
              "      <td>Adam Adhitya Prayoga</td>\n",
              "      <td>S1 ILMU AKTUARIA</td>\n",
              "    </tr>\n",
              "    <tr>\n",
              "      <th>3</th>\n",
              "      <td>4</td>\n",
              "      <td>492912</td>\n",
              "      <td>REVALDY HAZZA DANISWARA</td>\n",
              "      <td>S1 ILMU AKTUARIA</td>\n",
              "    </tr>\n",
              "    <tr>\n",
              "      <th>4</th>\n",
              "      <td>5</td>\n",
              "      <td>493047</td>\n",
              "      <td>Gabriella Yoanda Pelawi</td>\n",
              "      <td>S1 STATISTIKA</td>\n",
              "    </tr>\n",
              "  </tbody>\n",
              "</table>\n",
              "</div>\n",
              "    <div class=\"colab-df-buttons\">\n",
              "\n",
              "  <div class=\"colab-df-container\">\n",
              "    <button class=\"colab-df-convert\" onclick=\"convertToInteractive('df-6d68f10b-f1e8-4717-b46c-bebed0d1d6b7')\"\n",
              "            title=\"Convert this dataframe to an interactive table.\"\n",
              "            style=\"display:none;\">\n",
              "\n",
              "  <svg xmlns=\"http://www.w3.org/2000/svg\" height=\"24px\" viewBox=\"0 -960 960 960\">\n",
              "    <path d=\"M120-120v-720h720v720H120Zm60-500h600v-160H180v160Zm220 220h160v-160H400v160Zm0 220h160v-160H400v160ZM180-400h160v-160H180v160Zm440 0h160v-160H620v160ZM180-180h160v-160H180v160Zm440 0h160v-160H620v160Z\"/>\n",
              "  </svg>\n",
              "    </button>\n",
              "\n",
              "  <style>\n",
              "    .colab-df-container {\n",
              "      display:flex;\n",
              "      gap: 12px;\n",
              "    }\n",
              "\n",
              "    .colab-df-convert {\n",
              "      background-color: #E8F0FE;\n",
              "      border: none;\n",
              "      border-radius: 50%;\n",
              "      cursor: pointer;\n",
              "      display: none;\n",
              "      fill: #1967D2;\n",
              "      height: 32px;\n",
              "      padding: 0 0 0 0;\n",
              "      width: 32px;\n",
              "    }\n",
              "\n",
              "    .colab-df-convert:hover {\n",
              "      background-color: #E2EBFA;\n",
              "      box-shadow: 0px 1px 2px rgba(60, 64, 67, 0.3), 0px 1px 3px 1px rgba(60, 64, 67, 0.15);\n",
              "      fill: #174EA6;\n",
              "    }\n",
              "\n",
              "    .colab-df-buttons div {\n",
              "      margin-bottom: 4px;\n",
              "    }\n",
              "\n",
              "    [theme=dark] .colab-df-convert {\n",
              "      background-color: #3B4455;\n",
              "      fill: #D2E3FC;\n",
              "    }\n",
              "\n",
              "    [theme=dark] .colab-df-convert:hover {\n",
              "      background-color: #434B5C;\n",
              "      box-shadow: 0px 1px 3px 1px rgba(0, 0, 0, 0.15);\n",
              "      filter: drop-shadow(0px 1px 2px rgba(0, 0, 0, 0.3));\n",
              "      fill: #FFFFFF;\n",
              "    }\n",
              "  </style>\n",
              "\n",
              "    <script>\n",
              "      const buttonEl =\n",
              "        document.querySelector('#df-6d68f10b-f1e8-4717-b46c-bebed0d1d6b7 button.colab-df-convert');\n",
              "      buttonEl.style.display =\n",
              "        google.colab.kernel.accessAllowed ? 'block' : 'none';\n",
              "\n",
              "      async function convertToInteractive(key) {\n",
              "        const element = document.querySelector('#df-6d68f10b-f1e8-4717-b46c-bebed0d1d6b7');\n",
              "        const dataTable =\n",
              "          await google.colab.kernel.invokeFunction('convertToInteractive',\n",
              "                                                    [key], {});\n",
              "        if (!dataTable) return;\n",
              "\n",
              "        const docLinkHtml = 'Like what you see? Visit the ' +\n",
              "          '<a target=\"_blank\" href=https://colab.research.google.com/notebooks/data_table.ipynb>data table notebook</a>'\n",
              "          + ' to learn more about interactive tables.';\n",
              "        element.innerHTML = '';\n",
              "        dataTable['output_type'] = 'display_data';\n",
              "        await google.colab.output.renderOutput(dataTable, element);\n",
              "        const docLink = document.createElement('div');\n",
              "        docLink.innerHTML = docLinkHtml;\n",
              "        element.appendChild(docLink);\n",
              "      }\n",
              "    </script>\n",
              "  </div>\n",
              "\n",
              "\n",
              "<div id=\"df-4e6c830b-97ef-42f6-801c-e0a5da0e4c13\">\n",
              "  <button class=\"colab-df-quickchart\" onclick=\"quickchart('df-4e6c830b-97ef-42f6-801c-e0a5da0e4c13')\"\n",
              "            title=\"Suggest charts\"\n",
              "            style=\"display:none;\">\n",
              "\n",
              "<svg xmlns=\"http://www.w3.org/2000/svg\" height=\"24px\"viewBox=\"0 0 24 24\"\n",
              "     width=\"24px\">\n",
              "    <g>\n",
              "        <path d=\"M19 3H5c-1.1 0-2 .9-2 2v14c0 1.1.9 2 2 2h14c1.1 0 2-.9 2-2V5c0-1.1-.9-2-2-2zM9 17H7v-7h2v7zm4 0h-2V7h2v10zm4 0h-2v-4h2v4z\"/>\n",
              "    </g>\n",
              "</svg>\n",
              "  </button>\n",
              "\n",
              "<style>\n",
              "  .colab-df-quickchart {\n",
              "      --bg-color: #E8F0FE;\n",
              "      --fill-color: #1967D2;\n",
              "      --hover-bg-color: #E2EBFA;\n",
              "      --hover-fill-color: #174EA6;\n",
              "      --disabled-fill-color: #AAA;\n",
              "      --disabled-bg-color: #DDD;\n",
              "  }\n",
              "\n",
              "  [theme=dark] .colab-df-quickchart {\n",
              "      --bg-color: #3B4455;\n",
              "      --fill-color: #D2E3FC;\n",
              "      --hover-bg-color: #434B5C;\n",
              "      --hover-fill-color: #FFFFFF;\n",
              "      --disabled-bg-color: #3B4455;\n",
              "      --disabled-fill-color: #666;\n",
              "  }\n",
              "\n",
              "  .colab-df-quickchart {\n",
              "    background-color: var(--bg-color);\n",
              "    border: none;\n",
              "    border-radius: 50%;\n",
              "    cursor: pointer;\n",
              "    display: none;\n",
              "    fill: var(--fill-color);\n",
              "    height: 32px;\n",
              "    padding: 0;\n",
              "    width: 32px;\n",
              "  }\n",
              "\n",
              "  .colab-df-quickchart:hover {\n",
              "    background-color: var(--hover-bg-color);\n",
              "    box-shadow: 0 1px 2px rgba(60, 64, 67, 0.3), 0 1px 3px 1px rgba(60, 64, 67, 0.15);\n",
              "    fill: var(--button-hover-fill-color);\n",
              "  }\n",
              "\n",
              "  .colab-df-quickchart-complete:disabled,\n",
              "  .colab-df-quickchart-complete:disabled:hover {\n",
              "    background-color: var(--disabled-bg-color);\n",
              "    fill: var(--disabled-fill-color);\n",
              "    box-shadow: none;\n",
              "  }\n",
              "\n",
              "  .colab-df-spinner {\n",
              "    border: 2px solid var(--fill-color);\n",
              "    border-color: transparent;\n",
              "    border-bottom-color: var(--fill-color);\n",
              "    animation:\n",
              "      spin 1s steps(1) infinite;\n",
              "  }\n",
              "\n",
              "  @keyframes spin {\n",
              "    0% {\n",
              "      border-color: transparent;\n",
              "      border-bottom-color: var(--fill-color);\n",
              "      border-left-color: var(--fill-color);\n",
              "    }\n",
              "    20% {\n",
              "      border-color: transparent;\n",
              "      border-left-color: var(--fill-color);\n",
              "      border-top-color: var(--fill-color);\n",
              "    }\n",
              "    30% {\n",
              "      border-color: transparent;\n",
              "      border-left-color: var(--fill-color);\n",
              "      border-top-color: var(--fill-color);\n",
              "      border-right-color: var(--fill-color);\n",
              "    }\n",
              "    40% {\n",
              "      border-color: transparent;\n",
              "      border-right-color: var(--fill-color);\n",
              "      border-top-color: var(--fill-color);\n",
              "    }\n",
              "    60% {\n",
              "      border-color: transparent;\n",
              "      border-right-color: var(--fill-color);\n",
              "    }\n",
              "    80% {\n",
              "      border-color: transparent;\n",
              "      border-right-color: var(--fill-color);\n",
              "      border-bottom-color: var(--fill-color);\n",
              "    }\n",
              "    90% {\n",
              "      border-color: transparent;\n",
              "      border-bottom-color: var(--fill-color);\n",
              "    }\n",
              "  }\n",
              "</style>\n",
              "\n",
              "  <script>\n",
              "    async function quickchart(key) {\n",
              "      const quickchartButtonEl =\n",
              "        document.querySelector('#' + key + ' button');\n",
              "      quickchartButtonEl.disabled = true;  // To prevent multiple clicks.\n",
              "      quickchartButtonEl.classList.add('colab-df-spinner');\n",
              "      try {\n",
              "        const charts = await google.colab.kernel.invokeFunction(\n",
              "            'suggestCharts', [key], {});\n",
              "      } catch (error) {\n",
              "        console.error('Error during call to suggestCharts:', error);\n",
              "      }\n",
              "      quickchartButtonEl.classList.remove('colab-df-spinner');\n",
              "      quickchartButtonEl.classList.add('colab-df-quickchart-complete');\n",
              "    }\n",
              "    (() => {\n",
              "      let quickchartButtonEl =\n",
              "        document.querySelector('#df-4e6c830b-97ef-42f6-801c-e0a5da0e4c13 button');\n",
              "      quickchartButtonEl.style.display =\n",
              "        google.colab.kernel.accessAllowed ? 'block' : 'none';\n",
              "    })();\n",
              "  </script>\n",
              "</div>\n",
              "    </div>\n",
              "  </div>\n"
            ],
            "application/vnd.google.colaboratory.intrinsic+json": {
              "type": "dataframe",
              "variable_name": "df",
              "summary": "{\n  \"name\": \"df\",\n  \"rows\": 35,\n  \"fields\": [\n    {\n      \"column\": \"No\",\n      \"properties\": {\n        \"dtype\": \"number\",\n        \"std\": 10,\n        \"min\": 1,\n        \"max\": 35,\n        \"num_unique_values\": 35,\n        \"samples\": [\n          27,\n          14,\n          25\n        ],\n        \"semantic_type\": \"\",\n        \"description\": \"\"\n      }\n    },\n    {\n      \"column\": \"NIU\",\n      \"properties\": {\n        \"dtype\": \"number\",\n        \"std\": 2876,\n        \"min\": 492729,\n        \"max\": 503114,\n        \"num_unique_values\": 35,\n        \"samples\": [\n          497587,\n          493931,\n          497250\n        ],\n        \"semantic_type\": \"\",\n        \"description\": \"\"\n      }\n    },\n    {\n      \"column\": \"Nama\",\n      \"properties\": {\n        \"dtype\": \"string\",\n        \"num_unique_values\": 35,\n        \"samples\": [\n          \"Dwi Cahya Nurani\",\n          \"Reza Oktafian Rahman\",\n          \"Meila Dwi Nurini\"\n        ],\n        \"semantic_type\": \"\",\n        \"description\": \"\"\n      }\n    },\n    {\n      \"column\": \"Prodi\",\n      \"properties\": {\n        \"dtype\": \"category\",\n        \"num_unique_values\": 2,\n        \"samples\": [\n          \"S1 ILMU AKTUARIA\",\n          \"S1 STATISTIKA\"\n        ],\n        \"semantic_type\": \"\",\n        \"description\": \"\"\n      }\n    }\n  ]\n}"
            }
          },
          "metadata": {},
          "execution_count": 71
        }
      ],
      "source": [
        "import pandas as pd\n",
        "import numpy as np\n",
        "df = pd.read_excel(\"/content/Pertemuan 1_PDM.xlsx\")\n",
        "df.head()\n"
      ]
    },
    {
      "cell_type": "markdown",
      "metadata": {
        "id": "XyWAQ-xFu5i_"
      },
      "source": [
        "# Pyplot dan Seaborn\n",
        "Salah satu library yang dapat digunakan dalam melakukan visualisasi data alah Pyplot (yang disediakan di dalam library lain bernama Matplotlib).\n",
        "\n",
        "Dengan Matplotlib dapat digunakan untuk menampilkan histogram, bar chart, line chart, dll.\n",
        "\n",
        "Selain itu, library lainnya adalah seaborn yang merupakan turunan dari Matplotlib. Seaborn dapat digunakan untuk membuat grafik statistik misalnya heatmap dan boxplot"
      ]
    },
    {
      "cell_type": "code",
      "source": [
        "import numpy as np\n",
        "import matplotlib.pyplot as plt\n",
        "\n",
        "data = np.array([1, 3, 5, 7, 9, 11, 13, 17, 23, 29])\n",
        "plt.plot(data)  # Plot data langsung dari array\n",
        "\n",
        "plt.xlabel('Index')  # Label sumbu x\n",
        "plt.ylabel('Value')  # Label sumbu y\n",
        "plt.title('Plot Data')  # Judul plot\n",
        "plt.show()\n"
      ],
      "metadata": {
        "colab": {
          "base_uri": "https://localhost:8080/",
          "height": 472
        },
        "id": "yrLA4A1lmaqg",
        "outputId": "e48325ae-e2d9-4349-efb5-f3e0ba77a74a"
      },
      "execution_count": null,
      "outputs": [
        {
          "output_type": "display_data",
          "data": {
            "text/plain": [
              "<Figure size 640x480 with 1 Axes>"
            ],
            "image/png": "[encoded data removed]"
          },
          "metadata": {}
        }
      ]
    },
    {
      "cell_type": "code",
      "execution_count": null,
      "metadata": {
        "id": "_PRdCtUJu5jA",
        "colab": {
          "base_uri": "https://localhost:8080/",
          "height": 430
        },
        "outputId": "a0745dee-fad3-4631-b7e5-84c62322e505"
      },
      "outputs": [
        {
          "output_type": "display_data",
          "data": {
            "text/plain": [
              "<Figure size 640x480 with 1 Axes>"
            ],
            "image/png": "[encoded data removed]"
          },
          "metadata": {}
        }
      ],
      "source": [
        "# Contoh\n",
        "import numpy as np\n",
        "import matplotlib.pyplot as plt\n",
        "usia = np.array([1,2,3,4,5,6,7,8,9,11,13,17,20,23,25,28])\n",
        "tinggi = np.array([80,70,90,85,110,120,100,125,130,160,155,160,165,170,170,168])\n",
        "plt.scatter(usia,tinggi)\n",
        "plt.show()"
      ]
    },
    {
      "cell_type": "markdown",
      "metadata": {
        "id": "Q_7peDvru5jA"
      },
      "source": [
        "# Scikit - learn\n",
        "Saat ini, Python merupakan salah satu bahasa pemrograman yang sangat populer untuk keperluan Mechine Learning. Salah satu alasan utamanya adalah karena adanya library scikit-learn. Library ini menyediakan banyak modul untuk pembuatan model, baik supervised maupun unsupervised. Berikut beberapa modul yang sering digunakan."
      ]
    },
    {
      "cell_type": "code",
      "execution_count": null,
      "metadata": {
        "id": "vPErDR6mu5jA",
        "colab": {
          "base_uri": "https://localhost:8080/"
        },
        "outputId": "fbfdb8cf-53f2-4263-a295-1f6a64384d14"
      },
      "outputs": [
        {
          "output_type": "stream",
          "name": "stdout",
          "text": [
            "Algoritma            Nama kelas untuk diimpor                 Penggunaan\n",
            "-------------------  ---------------------------------------  -----------------------------------\n",
            "Linear Regression    sklearn.linear_model.LinearRegression    Prediksi Numerik, supervised\n",
            "Logistic Regression  sklearn.linear_model.LogisticRegression  klasifikasi,supervised\n",
            "Decision tree        sklearn.tree.DecisionTreeClassifier      Klasifikasi,Supervised\n",
            "Random Forest        sklearn.ensemble.RandomForestClassifier  Klasifikasi,Supervised\n",
            "Naive Bayes          sklearn.naive_bayes                      klasifikasi,supervised\n",
            "K-Means              sklearn.cluster.KMeans                   Klusterisasi,Unsupervised\n",
            "Neural Network       sklearn.neural_network                   Regresi dan klasifikasi, supervised\n",
            "SVM                  sklearn.svm                              Regresi dan klasifikasi, supervised\n"
          ]
        }
      ],
      "source": [
        "from tabulate import tabulate\n",
        "#Membuat tabel\n",
        "data = [[\"Linear Regression\", \"sklearn.linear_model.LinearRegression\", 'Prediksi Numerik, supervised'],\n",
        "        [\"Logistic Regression\", 'sklearn.linear_model.LogisticRegression','klasifikasi,supervised'],\n",
        "        [\"Decision tree\", 'sklearn.tree.DecisionTreeClassifier','Klasifikasi,Supervised'],\n",
        "        [\"Random Forest\", 'sklearn.ensemble.RandomForestClassifier','Klasifikasi,Supervised'],\n",
        "       [\"Naive Bayes\",'sklearn.naive_bayes',\"klasifikasi,supervised\"],\n",
        "       ['K-Means','sklearn.cluster.KMeans','Klusterisasi,Unsupervised'],\n",
        "       ['Neural Network','sklearn.neural_network','Regresi dan klasifikasi, supervised'],\n",
        "       ['SVM','sklearn.svm','Regresi dan klasifikasi, supervised']]\n",
        "\n",
        "#Nama kolom\n",
        "col_names = [\"Algoritma\", \"Nama kelas untuk diimpor\", \"Penggunaan\"]\n",
        "\n",
        "print(tabulate(data, headers= col_names))"
      ]
    },
    {
      "cell_type": "markdown",
      "metadata": {
        "id": "6ctZk6Hpu5jA"
      },
      "source": [
        "Selain itu, Scikit-learn juga menyediakan banyak fasilitas untuk melakukan manipulasi data, beberapa diantaranya adalah"
      ]
    },
    {
      "cell_type": "code",
      "execution_count": null,
      "metadata": {
        "id": "VpAj09kSu5jA",
        "colab": {
          "base_uri": "https://localhost:8080/"
        },
        "outputId": "ef753046-66a0-4d9f-d00e-d337d20fd3b7"
      },
      "outputs": [
        {
          "output_type": "stream",
          "name": "stdout",
          "text": [
            "Algoritma                   Penggunaan\n",
            "--------------------------  ----------------------------------------------------------\n",
            "sklearn.model_selection     untuk memilih training dan test dataset\n",
            "sklearn.metrics             untuk melakukan pengukuran terhadap berbagai kinerja model\n",
            "sklearn.preprocessing       untuk melakukan berbagai transformasi terhadap data mentah\n",
            "sklearn.feature_extraction  untuk mengambil feature dari text dan gambar\n"
          ]
        }
      ],
      "source": [
        "data1 = [['sklearn.model_selection','untuk memilih training dan test dataset'],\n",
        "       ['sklearn.metrics','untuk melakukan pengukuran terhadap berbagai kinerja model'],\n",
        "       ['sklearn.preprocessing','untuk melakukan berbagai transformasi terhadap data mentah'],\n",
        "       ['sklearn.feature_extraction','untuk mengambil feature dari text dan gambar']]\n",
        "\n",
        "#Nama kolom\n",
        "col_names = [\"Algoritma\",\"Penggunaan\"]\n",
        "\n",
        "print(tabulate(data1, headers= col_names))"
      ]
    }
  ],
  "metadata": {
    "kernelspec": {
      "display_name": "Python 3 (ipykernel)",
      "language": "python",
      "name": "python3"
    },
    "language_info": {
      "codemirror_mode": {
        "name": "ipython",
        "version": 3
      },
      "file_extension": ".py",
      "mimetype": "text/x-python",
      "name": "python",
      "nbconvert_exporter": "python",
      "pygments_lexer": "ipython3",
      "version": "3.9.12"
    },
    "colab": {
      "provenance": [],
      "include_colab_link": true
    }
  },
  "nbformat": 4,
  "nbformat_minor": 0
}